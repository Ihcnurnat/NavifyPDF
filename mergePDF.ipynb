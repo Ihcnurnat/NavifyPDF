{
 "cells": [
  {
   "cell_type": "markdown",
   "id": "e104ae2b",
   "metadata": {},
   "source": [
    "# 🧩 PDF Merger Notebook\n",
    "\n",
    "This notebook merges multiple PDF files into one single PDF file using the **PyPDF** library.\n",
    "\n",
    "### 📥 Inputs:\n",
    "- A list of full paths to your input `.pdf` files.\n",
    "\n",
    "### 📤 Output:\n",
    "- A single PDF file saved to a specified location.\n",
    "\n",
    "You can later use this merged PDF with **NavifyPDF** for adding bookmarks or navigation structure.\n"
   ]
  },
  {
   "cell_type": "code",
   "execution_count": 22,
   "id": "cde6a444",
   "metadata": {},
   "outputs": [],
   "source": [
    "# 📦 Install the required package (run only once)\n",
    "!pip install -q pypdf\n",
    "\n",
    "from pathlib import Path\n",
    "from pypdf import PdfMerger\n",
    "import os\n",
    "from pypdf import PdfWriter  # Updated import\n"
   ]
  },
  {
   "cell_type": "markdown",
   "id": "8a3c7414",
   "metadata": {},
   "source": [
    "## ✏️ Step 1: Define Input and Output Paths\n",
    "\n",
    "Manually specify:\n",
    "- A list of full paths to the input PDF files\n",
    "- The output file path (including `.pdf`)\n"
   ]
  },
  {
   "cell_type": "code",
   "execution_count": 23,
   "id": "39807346",
   "metadata": {},
   "outputs": [],
   "source": [
    "# ✅ Edit these paths\n",
    "input_pdf_paths = [\n",
    "    \"/Users/runchitan/Documents/MyLibrary/Numerical Linear Algebra/cambridge-core_numerical-linear-algebra_9May2025/01.0_pp_i_iv_Frontmatter.pdf\",\n",
    "    \"/Users/runchitan/Documents/MyLibrary/Numerical Linear Algebra/cambridge-core_numerical-linear-algebra_9May2025/02.0_pp_v_viii_Contents.pdf\",\n",
    "    \"/Users/runchitan/Documents/MyLibrary/Numerical Linear Algebra/cambridge-core_numerical-linear-algebra_9May2025/03.0_pp_ix_x_Preface.pdf\",\n",
    "    \"/Users/runchitan/Documents/MyLibrary/Numerical Linear Algebra/cambridge-core_numerical-linear-algebra_9May2025/04.0_pp_1_2_PRELIMINARIES.pdf\",\n",
    "    \"/Users/runchitan/Documents/MyLibrary/Numerical Linear Algebra/cambridge-core_numerical-linear-algebra_9May2025/04.1_pp_3_29_Introduction.pdf\",\n",
    "    \"/Users/runchitan/Documents/MyLibrary/Numerical Linear Algebra/cambridge-core_numerical-linear-algebra_9May2025/04.2_pp_30_56_Error_Stability_and_Conditioning.pdf\",\n",
    "    \"/Users/runchitan/Documents/MyLibrary/Numerical Linear Algebra/cambridge-core_numerical-linear-algebra_9May2025/05.0_pp_57_58_BASIC_METHODS.pdf\",\n",
    "    \"/Users/runchitan/Documents/MyLibrary/Numerical Linear Algebra/cambridge-core_numerical-linear-algebra_9May2025/05.1_pp_59_100_Direct_Methods_for_Solving_Linear_Systems.pdf\",\n",
    "    \"/Users/runchitan/Documents/MyLibrary/Numerical Linear Algebra/cambridge-core_numerical-linear-algebra_9May2025/05.2_pp_101_131_Iterative_Methods_for_Solving_Linear_Systems.pdf\",\n",
    "    \"/Users/runchitan/Documents/MyLibrary/Numerical Linear Algebra/cambridge-core_numerical-linear-algebra_9May2025/05.3_pp_132_180_Calculation_of_Eigenvalues.pdf\",\n",
    "    \"/Users/runchitan/Documents/MyLibrary/Numerical Linear Algebra/cambridge-core_numerical-linear-algebra_9May2025/06.0_pp_181_182_ADVANCED_METHODS.pdf\",\n",
    "    \"/Users/runchitan/Documents/MyLibrary/Numerical Linear Algebra/cambridge-core_numerical-linear-algebra_9May2025/06.1_pp_183_259_Methods_for_Large_Sparse_Systems.pdf\",\n",
    "    \"/Users/runchitan/Documents/MyLibrary/Numerical Linear Algebra/cambridge-core_numerical-linear-algebra_9May2025/06.2_pp_260_328_Methods_for_Large_Dense_Systems.pdf\",\n",
    "    \"/Users/runchitan/Documents/MyLibrary/Numerical Linear Algebra/cambridge-core_numerical-linear-algebra_9May2025/06.3_pp_329_369_Preconditioning.pdf\",\n",
    "    \"/Users/runchitan/Documents/MyLibrary/Numerical Linear Algebra/cambridge-core_numerical-linear-algebra_9May2025/06.4_pp_370_394_Compressed_Sensing.pdf\",\n",
    "    \"/Users/runchitan/Documents/MyLibrary/Numerical Linear Algebra/cambridge-core_numerical-linear-algebra_9May2025/07.0_pp_395_402_Bibliography.pdf\",\n",
    "    \"/Users/runchitan/Documents/MyLibrary/Numerical Linear Algebra/cambridge-core_numerical-linear-algebra_9May2025/08.0_pp_403_408_Index.pdf\"\n",
    "]\n",
    "\n",
    "output_pdf_path = \"/Users/runchitan/Documents/MyLibrary/Numerical Linear Algebra/NumericalLinearAlgebra_Wendland.pdf\"\n",
    "\n",
    "\n",
    "\n"
   ]
  },
  {
   "cell_type": "code",
   "execution_count": 24,
   "id": "f6a43a43",
   "metadata": {},
   "outputs": [
    {
     "name": "stdout",
     "output_type": "stream",
     "text": [
      "🗑️ Existing output PDF deleted: /Users/runchitan/Documents/MyLibrary/Numerical Linear Algebra/NumericalLinearAlgebra_Wendland.pdf\n"
     ]
    }
   ],
   "source": [
    "# Convert to Path object\n",
    "output_pdf_path = Path(output_pdf_path)\n",
    "\n",
    "# 📁 Ensure output directory exists\n",
    "output_pdf_path.parent.mkdir(parents=True, exist_ok=True)\n",
    "\n",
    "# 🧹 Delete old output if it exists\n",
    "if output_pdf_path.exists():\n",
    "    try:\n",
    "        output_pdf_path.unlink()\n",
    "        print(f\"🗑️ Existing output PDF deleted: {output_pdf_path}\")\n",
    "    except Exception as e:\n",
    "        print(f\"⚠️ Could not delete existing file: {e}\")\n",
    "        exit(1)"
   ]
  },
  {
   "cell_type": "markdown",
   "id": "c0b40628",
   "metadata": {},
   "source": [
    "## ⚙️ Step 2: Merge PDFs\n",
    "\n",
    "This cell uses PyPDF to merge all input files into a single PDF and saves the result.\n"
   ]
  },
  {
   "cell_type": "code",
   "execution_count": 25,
   "id": "173de875",
   "metadata": {},
   "outputs": [
    {
     "name": "stdout",
     "output_type": "stream",
     "text": [
      "\n",
      "🔍 Debug Information:\n",
      "Current working directory: /Users/runchitan/Desktop/NavifyPDF\n",
      "Output path: /Users/runchitan/Documents/MyLibrary/Numerical Linear Algebra/NumericalLinearAlgebra_Wendland.pdf\n",
      "Absolute output path: /Users/runchitan/Documents/MyLibrary/Numerical Linear Algebra/NumericalLinearAlgebra_Wendland.pdf\n",
      "Parent directory exists? True\n",
      "✅ Appended: 01.0_pp_i_iv_Frontmatter.pdf\n",
      "✅ Appended: 02.0_pp_v_viii_Contents.pdf\n",
      "✅ Appended: 03.0_pp_ix_x_Preface.pdf\n",
      "✅ Appended: 04.0_pp_1_2_PRELIMINARIES.pdf\n",
      "✅ Appended: 04.1_pp_3_29_Introduction.pdf\n",
      "✅ Appended: 04.2_pp_30_56_Error_Stability_and_Conditioning.pdf\n",
      "✅ Appended: 05.0_pp_57_58_BASIC_METHODS.pdf\n",
      "✅ Appended: 05.1_pp_59_100_Direct_Methods_for_Solving_Linear_Systems.pdf\n",
      "✅ Appended: 05.2_pp_101_131_Iterative_Methods_for_Solving_Linear_Systems.pdf\n",
      "✅ Appended: 05.3_pp_132_180_Calculation_of_Eigenvalues.pdf\n",
      "✅ Appended: 06.0_pp_181_182_ADVANCED_METHODS.pdf\n",
      "✅ Appended: 06.1_pp_183_259_Methods_for_Large_Sparse_Systems.pdf\n",
      "✅ Appended: 06.2_pp_260_328_Methods_for_Large_Dense_Systems.pdf\n",
      "✅ Appended: 06.3_pp_329_369_Preconditioning.pdf\n",
      "✅ Appended: 06.4_pp_370_394_Compressed_Sensing.pdf\n",
      "✅ Appended: 07.0_pp_395_402_Bibliography.pdf\n",
      "✅ Appended: 08.0_pp_403_408_Index.pdf\n",
      "\n",
      "🎉 Success! Merged PDF saved to:\n",
      "Location: /Users/runchitan/Documents/MyLibrary/Numerical Linear Algebra/NumericalLinearAlgebra_Wendland.pdf\n",
      "Right-click this path to copy it!\n"
     ]
    }
   ],
   "source": [
    "from pathlib import Path\n",
    "from pypdf import PdfWriter\n",
    "\n",
    "# 🔍 Debugging - Show where we're trying to save\n",
    "output_path = Path(output_pdf_path)\n",
    "print(\"\\n🔍 Debug Information:\")\n",
    "print(\"Current working directory:\", Path.cwd())\n",
    "print(\"Output path:\", output_path)\n",
    "print(\"Absolute output path:\", output_path.absolute())\n",
    "print(\"Parent directory exists?\", output_path.parent.exists())\n",
    "\n",
    "# 📦 Start merging\n",
    "merger = PdfWriter()\n",
    "\n",
    "for path_str in input_pdf_paths:\n",
    "    pdf = Path(path_str)\n",
    "    if not pdf.exists():\n",
    "        print(f\"❌ File not found, skipping: {pdf}\")\n",
    "        continue\n",
    "    try:\n",
    "        merger.append(str(pdf))\n",
    "        print(f\"✅ Appended: {pdf.name}\")\n",
    "    except Exception as e:\n",
    "        print(f\"⚠️ Failed to append {pdf.name}: {e}\")\n",
    "\n",
    "# 💾 Save final merged PDF\n",
    "try:\n",
    "    # Create parent directory if needed\n",
    "    output_path.parent.mkdir(parents=True, exist_ok=True)\n",
    "    \n",
    "    with open(output_path, \"wb\") as f:\n",
    "        merger.write(f)\n",
    "    \n",
    "    print(f\"\\n🎉 Success! Merged PDF saved to:\")\n",
    "    print(f\"Location: {output_path.absolute()}\")\n",
    "    print(f\"Right-click this path to copy it!\")\n",
    "    \n",
    "except Exception as e:\n",
    "    print(f\"\\n❌ Failed to save PDF:\")\n",
    "    print(f\"Error: {e}\")\n",
    "    print(f\"Attempted path: {output_path.absolute()}\")\n",
    "    print(\"Please check:\")\n",
    "    print(\"- Do you have write permissions?\")\n",
    "    print(\"- Is the drive connected?\")\n",
    "    print(\"- Is the path correct?\")\n",
    "finally:\n",
    "    merger.close()"
   ]
  }
 ],
 "metadata": {
  "kernelspec": {
   "display_name": "myenv",
   "language": "python",
   "name": "python3"
  },
  "language_info": {
   "codemirror_mode": {
    "name": "ipython",
    "version": 3
   },
   "file_extension": ".py",
   "mimetype": "text/x-python",
   "name": "python",
   "nbconvert_exporter": "python",
   "pygments_lexer": "ipython3",
   "version": "3.10.14"
  }
 },
 "nbformat": 4,
 "nbformat_minor": 5
}
