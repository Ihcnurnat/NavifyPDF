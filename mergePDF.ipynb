{
 "cells": [
  {
   "cell_type": "markdown",
   "id": "e104ae2b",
   "metadata": {},
   "source": [
    "# 🧩 PDF Merger Notebook\n",
    "\n",
    "This notebook merges multiple PDF files into one single PDF file using the **PyPDF** library.\n",
    "\n",
    "### 📥 Inputs:\n",
    "- A list of full paths to your input `.pdf` files.\n",
    "\n",
    "### 📤 Output:\n",
    "- A single PDF file saved to a specified location.\n",
    "\n",
    "You can later use this merged PDF with **NavifyPDF** for adding bookmarks or navigation structure.\n"
   ]
  },
  {
   "cell_type": "code",
   "execution_count": 35,
   "id": "cde6a444",
   "metadata": {},
   "outputs": [],
   "source": [
    "# 📦 Install the required package (run only once)\n",
    "!pip install -q pypdf\n",
    "\n",
    "from pathlib import Path\n",
    "from pypdf import PdfMerger\n",
    "import os\n",
    "from pypdf import PdfWriter  # Updated import\n"
   ]
  },
  {
   "cell_type": "markdown",
   "id": "8a3c7414",
   "metadata": {},
   "source": [
    "## ✏️ Step 1: Define Input and Output Paths\n",
    "\n",
    "Manually specify:\n",
    "- A list of full paths to the input PDF files\n",
    "- The output file path (including `.pdf`)\n"
   ]
  },
  {
   "cell_type": "code",
   "execution_count": 36,
   "id": "39807346",
   "metadata": {},
   "outputs": [],
   "source": [
    "\n",
    "# ✅ Edit these paths\n",
    "\n",
    "input_pdf_paths = [\n",
    "    '/Users/runchitan/Desktop/2025 Spring/MATH-453-CompLA/topics2025.pdf',\n",
    "    '/Users/runchitan/Desktop/2025 Spring/MATH-453-CompLA/exercise1.pdf',\n",
    "    '/Users/runchitan/Desktop/2025 Spring/MATH-453-CompLA/exercise2.pdf',\n",
    "    '/Users/runchitan/Desktop/2025 Spring/MATH-453-CompLA/exercise3.pdf',\n",
    "    '/Users/runchitan/Desktop/2025 Spring/MATH-453-CompLA/exercise4.pdf',\n",
    "    '/Users/runchitan/Desktop/2025 Spring/MATH-453-CompLA/exercise5.pdf',\n",
    "    '/Users/runchitan/Desktop/2025 Spring/MATH-453-CompLA/exercise6.pdf',\n",
    "    '/Users/runchitan/Desktop/2025 Spring/MATH-453-CompLA/exercise7.pdf',\n",
    "    '/Users/runchitan/Desktop/2025 Spring/MATH-453-CompLA/exercise8.pdf',\n",
    "    '/Users/runchitan/Desktop/2025 Spring/MATH-453-CompLA/exercise9.pdf',\n",
    "    '/Users/runchitan/Desktop/2025 Spring/MATH-453-CompLA/exercise10.pdf',\n",
    "    '/Users/runchitan/Desktop/2025 Spring/MATH-453-CompLA/exercise11.pdf',\n",
    "    '/Users/runchitan/Desktop/2025 Spring/MATH-453-CompLA/exercise12.pdf',\n",
    "    '/Users/runchitan/Desktop/2025 Spring/MATH-453-CompLA/sol1.pdf',\n",
    "    '/Users/runchitan/Desktop/2025 Spring/MATH-453-CompLA/sol2.pdf',\n",
    "    '/Users/runchitan/Desktop/2025 Spring/MATH-453-CompLA/sol3.pdf',\n",
    "    '/Users/runchitan/Desktop/2025 Spring/MATH-453-CompLA/sol4.pdf',\n",
    "    '/Users/runchitan/Desktop/2025 Spring/MATH-453-CompLA/sol5.pdf',\n",
    "    '/Users/runchitan/Desktop/2025 Spring/MATH-453-CompLA/sol6.pdf',\n",
    "    '/Users/runchitan/Desktop/2025 Spring/MATH-453-CompLA/sol7.pdf',\n",
    "    '/Users/runchitan/Desktop/2025 Spring/MATH-453-CompLA/sol8.pdf',\n",
    "    '/Users/runchitan/Desktop/2025 Spring/MATH-453-CompLA/sol9.pdf',\n",
    "    '/Users/runchitan/Desktop/2025 Spring/MATH-453-CompLA/sol10.pdf',\n",
    "    '/Users/runchitan/Desktop/2025 Spring/MATH-453-CompLA/sol11.pdf',\n",
    "    '/Users/runchitan/Desktop/2025 Spring/MATH-453-CompLA/sol12.pdf',\n",
    "    '/Users/runchitan/Desktop/2025 Spring/MATH-453-CompLA/exam2024.pdf'\n",
    "]\n",
    "\n",
    "output_pdf_path = '/Users/runchitan/Desktop/2025 Spring/MATH-453-CompLA/ReviewSheetsSummary.pdf'"
   ]
  },
  {
   "cell_type": "code",
   "execution_count": 37,
   "id": "f6a43a43",
   "metadata": {},
   "outputs": [
    {
     "name": "stdout",
     "output_type": "stream",
     "text": [
      "🗑️ Existing output PDF deleted: /Users/runchitan/Desktop/2025 Spring/MATH-453-CompLA/ReviewSheetsSummary.pdf\n"
     ]
    }
   ],
   "source": [
    "# Convert to Path object\n",
    "output_pdf_path = Path(output_pdf_path)\n",
    "\n",
    "# 📁 Ensure output directory exists\n",
    "output_pdf_path.parent.mkdir(parents=True, exist_ok=True)\n",
    "\n",
    "# 🧹 Delete old output if it exists\n",
    "if output_pdf_path.exists():\n",
    "    try:\n",
    "        output_pdf_path.unlink()\n",
    "        print(f\"🗑️ Existing output PDF deleted: {output_pdf_path}\")\n",
    "    except Exception as e:\n",
    "        print(f\"⚠️ Could not delete existing file: {e}\")\n",
    "        exit(1)"
   ]
  },
  {
   "cell_type": "markdown",
   "id": "c0b40628",
   "metadata": {},
   "source": [
    "## ⚙️ Step 2: Merge PDFs\n",
    "\n",
    "This cell uses PyPDF to merge all input files into a single PDF and saves the result.\n"
   ]
  },
  {
   "cell_type": "code",
   "execution_count": 38,
   "id": "173de875",
   "metadata": {},
   "outputs": [
    {
     "name": "stdout",
     "output_type": "stream",
     "text": [
      "\n",
      "🔍 Debug Information:\n",
      "Current working directory: /Users/runchitan/Desktop/NavifyPDF\n",
      "Output path: /Users/runchitan/Desktop/2025 Spring/MATH-453-CompLA/ReviewSheetsSummary.pdf\n",
      "Absolute output path: /Users/runchitan/Desktop/2025 Spring/MATH-453-CompLA/ReviewSheetsSummary.pdf\n",
      "Parent directory exists? True\n",
      "✅ Appended: topics2025.pdf\n",
      "✅ Appended: exercise1.pdf\n",
      "✅ Appended: exercise2.pdf\n",
      "✅ Appended: exercise3.pdf\n",
      "✅ Appended: exercise4.pdf\n",
      "✅ Appended: exercise5.pdf\n",
      "✅ Appended: exercise6.pdf\n",
      "✅ Appended: exercise7.pdf\n",
      "✅ Appended: exercise8.pdf\n",
      "✅ Appended: exercise9.pdf\n",
      "✅ Appended: exercise10.pdf\n",
      "✅ Appended: exercise11.pdf\n",
      "✅ Appended: exercise12.pdf\n",
      "✅ Appended: sol1.pdf\n",
      "✅ Appended: sol2.pdf\n",
      "✅ Appended: sol3.pdf\n",
      "✅ Appended: sol4.pdf\n",
      "✅ Appended: sol5.pdf\n",
      "✅ Appended: sol6.pdf\n",
      "✅ Appended: sol7.pdf\n",
      "✅ Appended: sol8.pdf\n",
      "✅ Appended: sol9.pdf\n",
      "✅ Appended: sol10.pdf\n",
      "✅ Appended: sol11.pdf\n",
      "✅ Appended: sol12.pdf\n",
      "✅ Appended: exam2024.pdf\n",
      "\n",
      "🎉 Success! Merged PDF saved to:\n",
      "Location: /Users/runchitan/Desktop/2025 Spring/MATH-453-CompLA/ReviewSheetsSummary.pdf\n",
      "Right-click this path to copy it!\n"
     ]
    }
   ],
   "source": [
    "from pathlib import Path\n",
    "from pypdf import PdfWriter\n",
    "\n",
    "# 🔍 Debugging - Show where we're trying to save\n",
    "output_path = Path(output_pdf_path)\n",
    "print(\"\\n🔍 Debug Information:\")\n",
    "print(\"Current working directory:\", Path.cwd())\n",
    "print(\"Output path:\", output_path)\n",
    "print(\"Absolute output path:\", output_path.absolute())\n",
    "print(\"Parent directory exists?\", output_path.parent.exists())\n",
    "\n",
    "# 📦 Start merging\n",
    "merger = PdfWriter()\n",
    "\n",
    "for path_str in input_pdf_paths:\n",
    "    pdf = Path(path_str)\n",
    "    if not pdf.exists():\n",
    "        print(f\"❌ File not found, skipping: {pdf}\")\n",
    "        continue\n",
    "    try:\n",
    "        merger.append(str(pdf))\n",
    "        print(f\"✅ Appended: {pdf.name}\")\n",
    "    except Exception as e:\n",
    "        print(f\"⚠️ Failed to append {pdf.name}: {e}\")\n",
    "\n",
    "# 💾 Save final merged PDF\n",
    "try:\n",
    "    # Create parent directory if needed\n",
    "    output_path.parent.mkdir(parents=True, exist_ok=True)\n",
    "    \n",
    "    with open(output_path, \"wb\") as f:\n",
    "        merger.write(f)\n",
    "    \n",
    "    print(f\"\\n🎉 Success! Merged PDF saved to:\")\n",
    "    print(f\"Location: {output_path.absolute()}\")\n",
    "    print(f\"Right-click this path to copy it!\")\n",
    "    \n",
    "except Exception as e:\n",
    "    print(f\"\\n❌ Failed to save PDF:\")\n",
    "    print(f\"Error: {e}\")\n",
    "    print(f\"Attempted path: {output_path.absolute()}\")\n",
    "    print(\"Please check:\")\n",
    "    print(\"- Do you have write permissions?\")\n",
    "    print(\"- Is the drive connected?\")\n",
    "    print(\"- Is the path correct?\")\n",
    "finally:\n",
    "    merger.close()"
   ]
  }
 ],
 "metadata": {
  "kernelspec": {
   "display_name": "myenv",
   "language": "python",
   "name": "python3"
  },
  "language_info": {
   "codemirror_mode": {
    "name": "ipython",
    "version": 3
   },
   "file_extension": ".py",
   "mimetype": "text/x-python",
   "name": "python",
   "nbconvert_exporter": "python",
   "pygments_lexer": "ipython3",
   "version": "3.10.14"
  }
 },
 "nbformat": 4,
 "nbformat_minor": 5
}
