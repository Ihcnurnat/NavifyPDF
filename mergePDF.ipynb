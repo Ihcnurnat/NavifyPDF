{
 "cells": [
  {
   "cell_type": "markdown",
   "id": "e104ae2b",
   "metadata": {},
   "source": [
    "# 🧩 PDF Merger Notebook\n",
    "\n",
    "This notebook merges multiple PDF files into one single PDF file using the **PyPDF** library.\n",
    "\n",
    "### 📥 Inputs:\n",
    "- A list of full paths to your input `.pdf` files.\n",
    "\n",
    "### 📤 Output:\n",
    "- A single PDF file saved to a specified location.\n",
    "\n",
    "You can later use this merged PDF with **NavifyPDF** for adding bookmarks or navigation structure.\n"
   ]
  },
  {
   "cell_type": "code",
   "execution_count": 1,
   "id": "cde6a444",
   "metadata": {},
   "outputs": [
    {
     "name": "stdout",
     "output_type": "stream",
     "text": [
      "Intel MKL WARNING: Support of Intel(R) Streaming SIMD Extensions 4.2 (Intel(R) SSE4.2) enabled only processors has been deprecated. Intel oneAPI Math Kernel Library 2025.0 will require Intel(R) Advanced Vector Extensions (Intel(R) AVX) instructions.\n",
      "Intel MKL WARNING: Support of Intel(R) Streaming SIMD Extensions 4.2 (Intel(R) SSE4.2) enabled only processors has been deprecated. Intel oneAPI Math Kernel Library 2025.0 will require Intel(R) Advanced Vector Extensions (Intel(R) AVX) instructions.\n"
     ]
    }
   ],
   "source": [
    "# 📦 Install the required package (run only once)\n",
    "!pip install -q pypdf\n",
    "\n",
    "from pathlib import Path\n",
    "from pypdf import PdfMerger\n",
    "import os\n",
    "from pypdf import PdfWriter  # Updated import\n"
   ]
  },
  {
   "cell_type": "markdown",
   "id": "8a3c7414",
   "metadata": {},
   "source": [
    "## ✏️ Step 1: Define Input and Output Paths\n",
    "\n",
    "Manually specify:\n",
    "- A list of full paths to the input PDF files\n",
    "- The output file path (including `.pdf`)\n"
   ]
  },
  {
   "cell_type": "code",
   "execution_count": 2,
   "id": "39807346",
   "metadata": {},
   "outputs": [],
   "source": [
    "# ✅ Edit these paths\n",
    "input_pdf_paths = [\n",
    "    '/Users/runchitan/Documents/MyLibrary/Riemann Surface/cambridge-core_riemann-surfaces-and-algebraic-curves_9May2025/01.0_pp_i_iv_Frontmatter.pdf', \n",
    "    '/Users/runchitan/Documents/MyLibrary/Riemann Surface/cambridge-core_riemann-surfaces-and-algebraic-curves_9May2025/02.0_pp_v_viii_Contents.pdf',\n",
    "    '/Users/runchitan/Documents/MyLibrary/Riemann Surface/cambridge-core_riemann-surfaces-and-algebraic-curves_9May2025/03.0_pp_ix_xii_Introduction.pdf',\n",
    "    '/Users/runchitan/Documents/MyLibrary/Riemann Surface/cambridge-core_riemann-surfaces-and-algebraic-curves_9May2025/04.0_pp_1_13_From_Complex_Analysis_to_Riemann_Surfaces.pdf',\n",
    "    '/Users/runchitan/Documents/MyLibrary/Riemann Surface/cambridge-core_riemann-surfaces-and-algebraic-curves_9May2025/05.0_pp_14_31_Introduction_to_Manifolds.pdf',\n",
    "    '/Users/runchitan/Documents/MyLibrary/Riemann Surface/cambridge-core_riemann-surfaces-and-algebraic-curves_9May2025/06.0_pp_32_46_Riemann_Surfaces.pdf',\n",
    "    '/Users/runchitan/Documents/MyLibrary/Riemann Surface/cambridge-core_riemann-surfaces-and-algebraic-curves_9May2025/07.0_pp_47_62_Maps_of_Riemann_Surfaces.pdf',\n",
    "    '/Users/runchitan/Documents/MyLibrary/Riemann Surface/cambridge-core_riemann-surfaces-and-algebraic-curves_9May2025/08.0_pp_63_79_Loops_and_Lifts.pdf',\n",
    "    '/Users/runchitan/Documents/MyLibrary/Riemann Surface/cambridge-core_riemann-surfaces-and-algebraic-curves_9May2025/09.0_pp_80_89_Counting_Maps.pdf',\n",
    "    '/Users/runchitan/Documents/MyLibrary/Riemann Surface/cambridge-core_riemann-surfaces-and-algebraic-curves_9May2025/10.0_pp_90_110_Counting_Monodromy_Representations.pdf',\n",
    "    '/Users/runchitan/Documents/MyLibrary/Riemann Surface/cambridge-core_riemann-surfaces-and-algebraic-curves_9May2025/11.0_pp_111_119_Representation_Theory_of_Sd.pdf',\n",
    "    '/Users/runchitan/Documents/MyLibrary/Riemann Surface/cambridge-core_riemann-surfaces-and-algebraic-curves_9May2025/12.0_pp_120_127_Hurwitz_Numbers_and_ZSd.pdf',\n",
    "    '/Users/runchitan/Documents/MyLibrary/Riemann Surface/cambridge-core_riemann-surfaces-and-algebraic-curves_9May2025/13.0_pp_128_142_The_Hurwitz_Potential.pdf',\n",
    "    '/Users/runchitan/Documents/MyLibrary/Riemann Surface/cambridge-core_riemann-surfaces-and-algebraic-curves_9May2025/14.0_pp_143_150_Hurwitz_Theory_in_Positive_Characteristic.pdf',\n",
    "    '/Users/runchitan/Documents/MyLibrary/Riemann Surface/cambridge-core_riemann-surfaces-and-algebraic-curves_9May2025/15.0_pp_151_160_Tropical_Hurwitz_Numbers.pdf', \n",
    "    '/Users/runchitan/Documents/MyLibrary/Riemann Surface/cambridge-core_riemann-surfaces-and-algebraic-curves_9May2025/16.0_pp_161_168_Hurwitz_Spaces.pdf',\n",
    "    '/Users/runchitan/Documents/MyLibrary/Riemann Surface/cambridge-core_riemann-surfaces-and-algebraic-curves_9May2025/17.0_pp_169_178_Does_Physics_Have_Anything_to_Say_About_Hurwitz_Numbers.pdf',\n",
    "    '/Users/runchitan/Documents/MyLibrary/Riemann Surface/cambridge-core_riemann-surfaces-and-algebraic-curves_9May2025/18.0_pp_179_180_Bibliography.pdf',\n",
    "    '/Users/runchitan/Documents/MyLibrary/Riemann Surface/cambridge-core_riemann-surfaces-and-algebraic-curves_9May2025/19.0_pp_181_183_Index.pdf'\n",
    "]\n",
    "\n",
    "output_pdf_path = '/Users/runchitan/Documents/MyLibrary/Riemann Surface/cambridge-core_riemann-surfaces-and-algebraic-curves_9May2025/RiemannSurfacesandAlgebraicCurves-EricMiles.pdf'"
   ]
  },
  {
   "cell_type": "code",
   "execution_count": 3,
   "id": "f6a43a43",
   "metadata": {},
   "outputs": [
    {
     "name": "stdout",
     "output_type": "stream",
     "text": [
      "🗑️ Existing output PDF deleted: /Users/runchitan/Documents/MyLibrary/Riemann Surface/cambridge-core_riemann-surfaces-and-algebraic-curves_9May2025/RiemannSurfacesandAlgebraicCurves-EricMiles.pdf\n"
     ]
    }
   ],
   "source": [
    "# Convert to Path object\n",
    "output_pdf_path = Path(output_pdf_path)\n",
    "\n",
    "# 📁 Ensure output directory exists\n",
    "output_pdf_path.parent.mkdir(parents=True, exist_ok=True)\n",
    "\n",
    "# 🧹 Delete old output if it exists\n",
    "if output_pdf_path.exists():\n",
    "    try:\n",
    "        output_pdf_path.unlink()\n",
    "        print(f\"🗑️ Existing output PDF deleted: {output_pdf_path}\")\n",
    "    except Exception as e:\n",
    "        print(f\"⚠️ Could not delete existing file: {e}\")\n",
    "        exit(1)"
   ]
  },
  {
   "cell_type": "markdown",
   "id": "c0b40628",
   "metadata": {},
   "source": [
    "## ⚙️ Step 2: Merge PDFs\n",
    "\n",
    "This cell uses PyPDF to merge all input files into a single PDF and saves the result.\n"
   ]
  },
  {
   "cell_type": "code",
   "execution_count": 4,
   "id": "173de875",
   "metadata": {},
   "outputs": [
    {
     "name": "stdout",
     "output_type": "stream",
     "text": [
      "\n",
      "🔍 Debug Information:\n",
      "Current working directory: /Users/runchitan/Desktop/NavifyPDF\n",
      "Output path: /Users/runchitan/Documents/MyLibrary/Riemann Surface/cambridge-core_riemann-surfaces-and-algebraic-curves_9May2025/RiemannSurfacesandAlgebraicCurves-EricMiles.pdf\n",
      "Absolute output path: /Users/runchitan/Documents/MyLibrary/Riemann Surface/cambridge-core_riemann-surfaces-and-algebraic-curves_9May2025/RiemannSurfacesandAlgebraicCurves-EricMiles.pdf\n",
      "Parent directory exists? True\n",
      "✅ Appended: 01.0_pp_i_iv_Frontmatter.pdf\n",
      "✅ Appended: 02.0_pp_v_viii_Contents.pdf\n",
      "✅ Appended: 03.0_pp_ix_xii_Introduction.pdf\n",
      "✅ Appended: 04.0_pp_1_13_From_Complex_Analysis_to_Riemann_Surfaces.pdf\n",
      "✅ Appended: 05.0_pp_14_31_Introduction_to_Manifolds.pdf\n",
      "✅ Appended: 06.0_pp_32_46_Riemann_Surfaces.pdf\n",
      "✅ Appended: 07.0_pp_47_62_Maps_of_Riemann_Surfaces.pdf\n",
      "✅ Appended: 08.0_pp_63_79_Loops_and_Lifts.pdf\n",
      "✅ Appended: 09.0_pp_80_89_Counting_Maps.pdf\n",
      "✅ Appended: 10.0_pp_90_110_Counting_Monodromy_Representations.pdf\n",
      "✅ Appended: 11.0_pp_111_119_Representation_Theory_of_Sd.pdf\n",
      "✅ Appended: 12.0_pp_120_127_Hurwitz_Numbers_and_ZSd.pdf\n",
      "✅ Appended: 13.0_pp_128_142_The_Hurwitz_Potential.pdf\n",
      "✅ Appended: 14.0_pp_143_150_Hurwitz_Theory_in_Positive_Characteristic.pdf\n",
      "✅ Appended: 15.0_pp_151_160_Tropical_Hurwitz_Numbers.pdf\n",
      "✅ Appended: 16.0_pp_161_168_Hurwitz_Spaces.pdf\n",
      "✅ Appended: 17.0_pp_169_178_Does_Physics_Have_Anything_to_Say_About_Hurwitz_Numbers.pdf\n",
      "✅ Appended: 18.0_pp_179_180_Bibliography.pdf\n",
      "✅ Appended: 19.0_pp_181_183_Index.pdf\n",
      "\n",
      "🎉 Success! Merged PDF saved to:\n",
      "Location: /Users/runchitan/Documents/MyLibrary/Riemann Surface/cambridge-core_riemann-surfaces-and-algebraic-curves_9May2025/RiemannSurfacesandAlgebraicCurves-EricMiles.pdf\n",
      "Right-click this path to copy it!\n"
     ]
    }
   ],
   "source": [
    "from pathlib import Path\n",
    "from pypdf import PdfWriter\n",
    "\n",
    "# 🔍 Debugging - Show where we're trying to save\n",
    "output_path = Path(output_pdf_path)\n",
    "print(\"\\n🔍 Debug Information:\")\n",
    "print(\"Current working directory:\", Path.cwd())\n",
    "print(\"Output path:\", output_path)\n",
    "print(\"Absolute output path:\", output_path.absolute())\n",
    "print(\"Parent directory exists?\", output_path.parent.exists())\n",
    "\n",
    "# 📦 Start merging\n",
    "merger = PdfWriter()\n",
    "\n",
    "for path_str in input_pdf_paths:\n",
    "    pdf = Path(path_str)\n",
    "    if not pdf.exists():\n",
    "        print(f\"❌ File not found, skipping: {pdf}\")\n",
    "        continue\n",
    "    try:\n",
    "        merger.append(str(pdf))\n",
    "        print(f\"✅ Appended: {pdf.name}\")\n",
    "    except Exception as e:\n",
    "        print(f\"⚠️ Failed to append {pdf.name}: {e}\")\n",
    "\n",
    "# 💾 Save final merged PDF\n",
    "try:\n",
    "    # Create parent directory if needed\n",
    "    output_path.parent.mkdir(parents=True, exist_ok=True)\n",
    "    \n",
    "    with open(output_path, \"wb\") as f:\n",
    "        merger.write(f)\n",
    "    \n",
    "    print(f\"\\n🎉 Success! Merged PDF saved to:\")\n",
    "    print(f\"Location: {output_path.absolute()}\")\n",
    "    print(f\"Right-click this path to copy it!\")\n",
    "    \n",
    "except Exception as e:\n",
    "    print(f\"\\n❌ Failed to save PDF:\")\n",
    "    print(f\"Error: {e}\")\n",
    "    print(f\"Attempted path: {output_path.absolute()}\")\n",
    "    print(\"Please check:\")\n",
    "    print(\"- Do you have write permissions?\")\n",
    "    print(\"- Is the drive connected?\")\n",
    "    print(\"- Is the path correct?\")\n",
    "finally:\n",
    "    merger.close()"
   ]
  }
 ],
 "metadata": {
  "kernelspec": {
   "display_name": "myenv",
   "language": "python",
   "name": "python3"
  },
  "language_info": {
   "codemirror_mode": {
    "name": "ipython",
    "version": 3
   },
   "file_extension": ".py",
   "mimetype": "text/x-python",
   "name": "python",
   "nbconvert_exporter": "python",
   "pygments_lexer": "ipython3",
   "version": "3.10.14"
  }
 },
 "nbformat": 4,
 "nbformat_minor": 5
}
