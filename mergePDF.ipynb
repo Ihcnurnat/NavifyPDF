{
 "cells": [
  {
   "cell_type": "markdown",
   "id": "e104ae2b",
   "metadata": {},
   "source": [
    "# 🧩 PDF Merger Notebook\n",
    "\n",
    "This notebook merges multiple PDF files into one single PDF file using the **PyPDF** library.\n",
    "\n",
    "### 📥 Inputs:\n",
    "- A list of full paths to your input `.pdf` files.\n",
    "\n",
    "### 📤 Output:\n",
    "- A single PDF file saved to a specified location.\n",
    "\n",
    "You can later use this merged PDF with **NavifyPDF** for adding bookmarks or navigation structure.\n"
   ]
  },
  {
   "cell_type": "code",
   "execution_count": null,
   "id": "cde6a444",
   "metadata": {},
   "outputs": [],
   "source": [
    "# 📦 Install the required package (run only once)\n",
    "!pip install -q pypdf\n"
   ]
  },
  {
   "cell_type": "markdown",
   "id": "8a3c7414",
   "metadata": {},
   "source": [
    "## ✏️ Step 1: Define Input and Output Paths\n",
    "\n",
    "Manually specify:\n",
    "- A list of full paths to the input PDF files\n",
    "- The output file path (including `.pdf`)\n"
   ]
  },
  {
   "cell_type": "code",
   "execution_count": null,
   "id": "39807346",
   "metadata": {},
   "outputs": [],
   "source": [
    "from pathlib import Path\n",
    "\n",
    "# ✅ Edit these paths\n",
    "input_pdf_paths = [\n",
    "    \"/path/to/your/file1.pdf\",\n",
    "    \"/path/to/your/file2.pdf\",\n",
    "    \"/path/to/your/file3.pdf\"\n",
    "]\n",
    "\n",
    "output_pdf_path = \"/path/to/your/output/merged.pdf\"\n",
    "\n",
    "# Show files for confirmation\n",
    "print(\"📚 Input PDF files:\")\n",
    "for path in input_pdf_paths:\n",
    "    print(\"•\", path)\n",
    "print(\"\\n📄 Output file will be saved as:\")\n",
    "print(\"•\", output_pdf_path)\n"
   ]
  },
  {
   "cell_type": "markdown",
   "id": "c0b40628",
   "metadata": {},
   "source": [
    "## ⚙️ Step 2: Merge PDFs\n",
    "\n",
    "This cell uses PyPDF to merge all input files into a single PDF and saves the result.\n"
   ]
  },
  {
   "cell_type": "code",
   "execution_count": null,
   "id": "173de875",
   "metadata": {},
   "outputs": [],
   "source": [
    "from pypdf import PdfMerger\n",
    "\n",
    "merger = PdfMerger()\n",
    "\n",
    "for pdf_path in input_pdf_paths:\n",
    "    pdf = Path(pdf_path)\n",
    "    if pdf.exists():\n",
    "        merger.append(str(pdf))\n",
    "        print(f\"✅ Added: {pdf}\")\n",
    "    else:\n",
    "        print(f\"⚠️ Skipped (file not found): {pdf}\")\n",
    "\n",
    "# Save the output\n",
    "output_path = Path(output_pdf_path)\n",
    "output_path.parent.mkdir(parents=True, exist_ok=True)  # create folder if it doesn't exist\n",
    "merger.write(str(output_path))\n",
    "merger.close()\n",
    "\n",
    "print(f\"\\n✅ Merged PDF saved at: {output_pdf_path}\")\n"
   ]
  }
 ],
 "metadata": {
  "kernelspec": {
   "display_name": "myenv",
   "language": "python",
   "name": "python3"
  },
  "language_info": {
   "name": "python",
   "version": "3.10.14"
  }
 },
 "nbformat": 4,
 "nbformat_minor": 5
}
