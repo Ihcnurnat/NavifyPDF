{
 "cells": [
  {
   "cell_type": "markdown",
   "id": "e104ae2b",
   "metadata": {},
   "source": [
    "# 🧩 PDF Merger Notebook\n",
    "\n",
    "This notebook merges multiple PDF files into one single PDF file using the **PyPDF** library.\n",
    "\n",
    "### 📥 Inputs:\n",
    "- A list of full paths to your input `.pdf` files.\n",
    "\n",
    "### 📤 Output:\n",
    "- A single PDF file saved to a specified location.\n",
    "\n",
    "You can later use this merged PDF with **NavifyPDF** for adding bookmarks or navigation structure.\n"
   ]
  },
  {
   "cell_type": "code",
   "execution_count": 1,
   "id": "cde6a444",
   "metadata": {},
   "outputs": [
    {
     "name": "stdout",
     "output_type": "stream",
     "text": [
      "Intel MKL WARNING: Support of Intel(R) Streaming SIMD Extensions 4.2 (Intel(R) SSE4.2) enabled only processors has been deprecated. Intel oneAPI Math Kernel Library 2025.0 will require Intel(R) Advanced Vector Extensions (Intel(R) AVX) instructions.\n",
      "Intel MKL WARNING: Support of Intel(R) Streaming SIMD Extensions 4.2 (Intel(R) SSE4.2) enabled only processors has been deprecated. Intel oneAPI Math Kernel Library 2025.0 will require Intel(R) Advanced Vector Extensions (Intel(R) AVX) instructions.\n"
     ]
    }
   ],
   "source": [
    "# 📦 Install the required package (run only once)\n",
    "!pip install -q pypdf\n",
    "\n",
    "from pathlib import Path\n",
    "from pypdf import PdfMerger\n",
    "import os\n",
    "from pypdf import PdfWriter  # Updated import\n"
   ]
  },
  {
   "cell_type": "markdown",
   "id": "8a3c7414",
   "metadata": {},
   "source": [
    "## ✏️ Step 1: Define Input and Output Paths\n",
    "\n",
    "Manually specify:\n",
    "- A list of full paths to the input PDF files\n",
    "- The output file path (including `.pdf`)\n"
   ]
  },
  {
   "cell_type": "code",
   "execution_count": 2,
   "id": "39807346",
   "metadata": {},
   "outputs": [],
   "source": [
    "# ✅ Edit these paths\n",
    "input_pdf_paths = [\n",
    "    \"/Users/runchitan/Documents/MyLibrary/Algebraic Geometry/cambridge-core_algebraic-groups_31Mar2025/01.0_pp_i_vi_Frontmatter.pdf\",\n",
    "    \"/Users/runchitan/Documents/MyLibrary/Algebraic Geometry/cambridge-core_algebraic-groups_31Mar2025/02.0_pp_vii_xiv_Contents.pdf\",\n",
    "    \"/Users/runchitan/Documents/MyLibrary/Algebraic Geometry/cambridge-core_algebraic-groups_31Mar2025/03.0_pp_xv_xvi_Preface.pdf\",\n",
    "    \"/Users/runchitan/Documents/MyLibrary/Algebraic Geometry/cambridge-core_algebraic-groups_31Mar2025/04.0_pp_1_5_Introduction.pdf\",\n",
    "    \"/Users/runchitan/Documents/MyLibrary/Algebraic Geometry/cambridge-core_algebraic-groups_31Mar2025/05.0_pp_6_38_Definitions_and_Basic_Properties.pdf\",\n",
    "    \"/Users/runchitan/Documents/MyLibrary/Algebraic Geometry/cambridge-core_algebraic-groups_31Mar2025/06.0_pp_39_63_Examples_and_Basic_Constructions.pdf\",\n",
    "    \"/Users/runchitan/Documents/MyLibrary/Algebraic Geometry/cambridge-core_algebraic-groups_31Mar2025/07.0_pp_64_82_Affine_Algebraic_Groups_and_Hopf_Algebras.pdf\",\n",
    "    \"/Users/runchitan/Documents/MyLibrary/Algebraic Geometry/cambridge-core_algebraic-groups_31Mar2025/08.0_pp_83_97_Linear_Representations_of_Algebraic_Groups.pdf\",\n",
    "    \"/Users/runchitan/Documents/MyLibrary/Algebraic Geometry/cambridge-core_algebraic-groups_31Mar2025/09.0_pp_98_123_Group_Theory_the_Isomorphism_Theorems.pdf\",\n",
    "    \"/Users/runchitan/Documents/MyLibrary/Algebraic Geometry/cambridge-core_algebraic-groups_31Mar2025/10.0_pp_124_137_Subnormal_Series_Solvable_and_Nilpotent_Algebraic_Groups.pdf\",\n",
    "    \"/Users/runchitan/Documents/MyLibrary/Algebraic Geometry/cambridge-core_algebraic-groups_31Mar2025/11.0_pp_138_147_Algebraic_Groups_Acting_on_Schemes.pdf\",\n",
    "    \"/Users/runchitan/Documents/MyLibrary/Algebraic Geometry/cambridge-core_algebraic-groups_31Mar2025/12.0_pp_148_162_The_Structure_of_General_Algebraic_Groups.pdf\",\n",
    "    \"/Users/runchitan/Documents/MyLibrary/Algebraic Geometry/cambridge-core_algebraic-groups_31Mar2025/13.0_pp_163_185_Tannaka_Duality_Jordan_Decompositions.pdf\",\n",
    "    \"/Users/runchitan/Documents/MyLibrary/Algebraic Geometry/cambridge-core_algebraic-groups_31Mar2025/14.0_pp_186_208_The_Lie_Algebra_of_an_Algebraic_Group.pdf\",\n",
    "    \"/Users/runchitan/Documents/MyLibrary/Algebraic Geometry/cambridge-core_algebraic-groups_31Mar2025/15.0_pp_209_229_Finite_Group_Schemes.pdf\",\n",
    "    \"/Users/runchitan/Documents/MyLibrary/Algebraic Geometry/cambridge-core_algebraic-groups_31Mar2025/16.0_pp_230_253_Groups_of_Multiplicative_Type_Linearly_Reductive_Groups.pdf\",\n",
    "    \"/Users/runchitan/Documents/MyLibrary/Algebraic Geometry/cambridge-core_algebraic-groups_31Mar2025/17.0_pp_254_278_Tori_Acting_on_Schemes.pdf\",\n",
    "    \"/Users/runchitan/Documents/MyLibrary/Algebraic Geometry/cambridge-core_algebraic-groups_31Mar2025/18.0_pp_279_301_Unipotent_Algebraic_Groups.pdf\",\n",
    "    \"/Users/runchitan/Documents/MyLibrary/Algebraic Geometry/cambridge-core_algebraic-groups_31Mar2025/19.0_pp_302_323_Cohomology_and_Extensions.pdf\",\n",
    "    \"/Users/runchitan/Documents/MyLibrary/Algebraic Geometry/cambridge-core_algebraic-groups_31Mar2025/20.0_pp_324_351_The_Structure_of_Solvable_Algebraic_Groups.pdf\",\n",
    "    \"/Users/runchitan/Documents/MyLibrary/Algebraic Geometry/cambridge-core_algebraic-groups_31Mar2025/21.0_pp_352_386_Borel_Subgroups_and_Applications.pdf\",\n",
    "    \"/Users/runchitan/Documents/MyLibrary/Algebraic Geometry/cambridge-core_algebraic-groups_31Mar2025/22.0_pp_387_396_The_Geometry_of_Algebraic_Groups.pdf\",\n",
    "    \"/Users/runchitan/Documents/MyLibrary/Algebraic Geometry/cambridge-core_algebraic-groups_31Mar2025/23.0_pp_397_406_Semisimple_and_Reductive_Groups.pdf\",\n",
    "    \"/Users/runchitan/Documents/MyLibrary/Algebraic Geometry/cambridge-core_algebraic-groups_31Mar2025/24.0_pp_407_423_Algebraic_Groups_of_Semisimple_Rank_One.pdf\",\n",
    "    \"/Users/runchitan/Documents/MyLibrary/Algebraic Geometry/cambridge-core_algebraic-groups_31Mar2025/25.0_pp_424_462_Split_Reductive_Groups.pdf\",\n",
    "    \"/Users/runchitan/Documents/MyLibrary/Algebraic Geometry/cambridge-core_algebraic-groups_31Mar2025/26.0_pp_463_482_Representations_of_Reductive_Groups.pdf\",\n",
    "    \"/Users/runchitan/Documents/MyLibrary/Algebraic Geometry/cambridge-core_algebraic-groups_31Mar2025/27.0_pp_483_511_The_Isogeny_and_Existence_Theorems.pdf\",\n",
    "    \"/Users/runchitan/Documents/MyLibrary/Algebraic Geometry/cambridge-core_algebraic-groups_31Mar2025/28.0_pp_512_543_Construction_of_the_Semisimple_Groups.pdf\",\n",
    "    \"/Users/runchitan/Documents/MyLibrary/Algebraic Geometry/cambridge-core_algebraic-groups_31Mar2025/29.0_pp_544_565_Additional_Topics.pdf\",\n",
    "    \"/Users/runchitan/Documents/MyLibrary/Algebraic Geometry/cambridge-core_algebraic-groups_31Mar2025/30.0_pp_566_585_Review_of_Algebraic_Geometry.pdf\",\n",
    "]\n",
    "\n",
    "output_pdf_path = \"/Users/runchitan/Documents/MyLibrary/Algebraic Geometry/cambridge-core_algebraic-groups_31Mar2025/AlgebraicGroupsMilne.pdf\""
   ]
  },
  {
   "cell_type": "code",
   "execution_count": 3,
   "id": "f6a43a43",
   "metadata": {},
   "outputs": [],
   "source": [
    "# Convert to Path object\n",
    "output_pdf_path = Path(output_pdf_path)\n",
    "\n",
    "# 📁 Ensure output directory exists\n",
    "output_pdf_path.parent.mkdir(parents=True, exist_ok=True)\n",
    "\n",
    "# 🧹 Delete old output if it exists\n",
    "if output_pdf_path.exists():\n",
    "    try:\n",
    "        output_pdf_path.unlink()\n",
    "        print(f\"🗑️ Existing output PDF deleted: {output_pdf_path}\")\n",
    "    except Exception as e:\n",
    "        print(f\"⚠️ Could not delete existing file: {e}\")\n",
    "        exit(1)"
   ]
  },
  {
   "cell_type": "markdown",
   "id": "c0b40628",
   "metadata": {},
   "source": [
    "## ⚙️ Step 2: Merge PDFs\n",
    "\n",
    "This cell uses PyPDF to merge all input files into a single PDF and saves the result.\n"
   ]
  },
  {
   "cell_type": "code",
   "execution_count": 4,
   "id": "173de875",
   "metadata": {},
   "outputs": [
    {
     "name": "stdout",
     "output_type": "stream",
     "text": [
      "\n",
      "🔍 Debug Information:\n",
      "Current working directory: /Users/runchitan/Desktop/NavifyPDF\n",
      "Output path: /Users/runchitan/Documents/MyLibrary/Algebraic Geometry/cambridge-core_algebraic-groups_31Mar2025/AlgebraicGroupsMilne.pdf\n",
      "Absolute output path: /Users/runchitan/Documents/MyLibrary/Algebraic Geometry/cambridge-core_algebraic-groups_31Mar2025/AlgebraicGroupsMilne.pdf\n",
      "Parent directory exists? True\n",
      "✅ Appended: 01.0_pp_i_vi_Frontmatter.pdf\n",
      "✅ Appended: 02.0_pp_vii_xiv_Contents.pdf\n",
      "✅ Appended: 03.0_pp_xv_xvi_Preface.pdf\n",
      "✅ Appended: 04.0_pp_1_5_Introduction.pdf\n",
      "✅ Appended: 05.0_pp_6_38_Definitions_and_Basic_Properties.pdf\n",
      "✅ Appended: 06.0_pp_39_63_Examples_and_Basic_Constructions.pdf\n",
      "✅ Appended: 07.0_pp_64_82_Affine_Algebraic_Groups_and_Hopf_Algebras.pdf\n",
      "✅ Appended: 08.0_pp_83_97_Linear_Representations_of_Algebraic_Groups.pdf\n",
      "✅ Appended: 09.0_pp_98_123_Group_Theory_the_Isomorphism_Theorems.pdf\n",
      "✅ Appended: 10.0_pp_124_137_Subnormal_Series_Solvable_and_Nilpotent_Algebraic_Groups.pdf\n",
      "✅ Appended: 11.0_pp_138_147_Algebraic_Groups_Acting_on_Schemes.pdf\n",
      "✅ Appended: 12.0_pp_148_162_The_Structure_of_General_Algebraic_Groups.pdf\n",
      "✅ Appended: 13.0_pp_163_185_Tannaka_Duality_Jordan_Decompositions.pdf\n",
      "✅ Appended: 14.0_pp_186_208_The_Lie_Algebra_of_an_Algebraic_Group.pdf\n",
      "✅ Appended: 15.0_pp_209_229_Finite_Group_Schemes.pdf\n",
      "✅ Appended: 16.0_pp_230_253_Groups_of_Multiplicative_Type_Linearly_Reductive_Groups.pdf\n",
      "✅ Appended: 17.0_pp_254_278_Tori_Acting_on_Schemes.pdf\n",
      "✅ Appended: 18.0_pp_279_301_Unipotent_Algebraic_Groups.pdf\n",
      "✅ Appended: 19.0_pp_302_323_Cohomology_and_Extensions.pdf\n",
      "✅ Appended: 20.0_pp_324_351_The_Structure_of_Solvable_Algebraic_Groups.pdf\n",
      "✅ Appended: 21.0_pp_352_386_Borel_Subgroups_and_Applications.pdf\n",
      "✅ Appended: 22.0_pp_387_396_The_Geometry_of_Algebraic_Groups.pdf\n",
      "✅ Appended: 23.0_pp_397_406_Semisimple_and_Reductive_Groups.pdf\n",
      "✅ Appended: 24.0_pp_407_423_Algebraic_Groups_of_Semisimple_Rank_One.pdf\n",
      "✅ Appended: 25.0_pp_424_462_Split_Reductive_Groups.pdf\n",
      "✅ Appended: 26.0_pp_463_482_Representations_of_Reductive_Groups.pdf\n",
      "✅ Appended: 27.0_pp_483_511_The_Isogeny_and_Existence_Theorems.pdf\n",
      "✅ Appended: 28.0_pp_512_543_Construction_of_the_Semisimple_Groups.pdf\n",
      "✅ Appended: 29.0_pp_544_565_Additional_Topics.pdf\n",
      "✅ Appended: 30.0_pp_566_585_Review_of_Algebraic_Geometry.pdf\n",
      "\n",
      "🎉 Success! Merged PDF saved to:\n",
      "Location: /Users/runchitan/Documents/MyLibrary/Algebraic Geometry/cambridge-core_algebraic-groups_31Mar2025/AlgebraicGroupsMilne.pdf\n",
      "Right-click this path to copy it!\n"
     ]
    }
   ],
   "source": [
    "from pathlib import Path\n",
    "from pypdf import PdfWriter\n",
    "\n",
    "# 🔍 Debugging - Show where we're trying to save\n",
    "output_path = Path(output_pdf_path)\n",
    "print(\"\\n🔍 Debug Information:\")\n",
    "print(\"Current working directory:\", Path.cwd())\n",
    "print(\"Output path:\", output_path)\n",
    "print(\"Absolute output path:\", output_path.absolute())\n",
    "print(\"Parent directory exists?\", output_path.parent.exists())\n",
    "\n",
    "# 📦 Start merging\n",
    "merger = PdfWriter()\n",
    "\n",
    "for path_str in input_pdf_paths:\n",
    "    pdf = Path(path_str)\n",
    "    if not pdf.exists():\n",
    "        print(f\"❌ File not found, skipping: {pdf}\")\n",
    "        continue\n",
    "    try:\n",
    "        merger.append(str(pdf))\n",
    "        print(f\"✅ Appended: {pdf.name}\")\n",
    "    except Exception as e:\n",
    "        print(f\"⚠️ Failed to append {pdf.name}: {e}\")\n",
    "\n",
    "# 💾 Save final merged PDF\n",
    "try:\n",
    "    # Create parent directory if needed\n",
    "    output_path.parent.mkdir(parents=True, exist_ok=True)\n",
    "    \n",
    "    with open(output_path, \"wb\") as f:\n",
    "        merger.write(f)\n",
    "    \n",
    "    print(f\"\\n🎉 Success! Merged PDF saved to:\")\n",
    "    print(f\"Location: {output_path.absolute()}\")\n",
    "    print(f\"Right-click this path to copy it!\")\n",
    "    \n",
    "except Exception as e:\n",
    "    print(f\"\\n❌ Failed to save PDF:\")\n",
    "    print(f\"Error: {e}\")\n",
    "    print(f\"Attempted path: {output_path.absolute()}\")\n",
    "    print(\"Please check:\")\n",
    "    print(\"- Do you have write permissions?\")\n",
    "    print(\"- Is the drive connected?\")\n",
    "    print(\"- Is the path correct?\")\n",
    "finally:\n",
    "    merger.close()"
   ]
  }
 ],
 "metadata": {
  "kernelspec": {
   "display_name": "myenv",
   "language": "python",
   "name": "python3"
  },
  "language_info": {
   "codemirror_mode": {
    "name": "ipython",
    "version": 3
   },
   "file_extension": ".py",
   "mimetype": "text/x-python",
   "name": "python",
   "nbconvert_exporter": "python",
   "pygments_lexer": "ipython3",
   "version": "3.10.14"
  }
 },
 "nbformat": 4,
 "nbformat_minor": 5
}
